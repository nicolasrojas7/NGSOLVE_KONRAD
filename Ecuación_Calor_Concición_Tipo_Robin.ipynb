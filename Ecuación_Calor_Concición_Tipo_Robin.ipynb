{
 "cells": [
  {
   "cell_type": "markdown",
   "id": "4eabfd8f-f16c-4f59-a3e5-c9545164b681",
   "metadata": {},
   "source": [
    "\\begin{aligned}\n",
    "-\\Delta u & = f && \\text {En una resistencia eléctrica},\n",
    "\\\\\n",
    "&\\alpha u − \\beta = 0 && \\text{Con condición en la frontera tipo Robin}\n",
    "\\end{aligned}"
   ]
  },
  {
   "cell_type": "code",
   "execution_count": 1,
   "id": "e683c2e7-da25-4afd-9119-ebc05acb23a3",
   "metadata": {},
   "outputs": [],
   "source": [
    "import numpy as np\n",
    "from ngsolve import *\n",
    "from ngsolve.webgui import Draw\n",
    "from netgen.geom2d import CSG2d, Circle, Rectangle"
   ]
  },
  {
   "cell_type": "markdown",
   "id": "b1a53c0a-b8ad-4df5-9283-2197b89279b4",
   "metadata": {},
   "source": [
    "- Crear un objeto de geometría 2D utilizando CSG (Constructive Solid Geometry)\r\n",
    "- Definir el primer círculo con centro en (4 + 4 * sqrt(2), 2), radio 6, material \"mat1\" y condición de borde \"bc_circle1\"\r\n",
    "- Definir el segundo círculo con centro en (4 + 4 * sqrt(2), 2), radio 5, material \"mat2\" y condición de borde \"bc_circle2\"\r\n",
    "- Definir el primer rectángulo con el punto mínimo en (0, 0) y el punto máximo en (4, 4), material \"mat1\" y condición de borde \"bc_rect1\"\r\n",
    "- Definir el segundo rectángulo con el punto mínimo en (-0.5, 1) y el punto máximo en (5.5, 3), material \"mat2\" y condición de borde \"bc_rect2\"\r\n",
    "- Crear el tercer dominio como la diferencia entre la unión del primer círculo con el primer rectángulo y la unión del segundo círculo con el segundo rectángulo\r\n",
    "- Añadir el tercer dominio a la geometría\r\n",
    "- Generar la malla con una máxima longitud de borde de 0.3\r\n",
    "- Dibujar a malla\r\n"
   ]
  },
  {
   "cell_type": "code",
   "execution_count": 2,
   "id": "ac63c4d8-28b2-450c-9701-5bf6f755eff1",
   "metadata": {},
   "outputs": [
    {
     "data": {
      "application/vnd.jupyter.widget-view+json": {
       "model_id": "3300f350403d4544a51e9836dbe0f2f6",
       "version_major": 2,
       "version_minor": 0
      },
      "text/plain": [
       "WebGuiWidget(layout=Layout(height='50vh', width='100%'), value={'gui_settings': {}, 'mesh_dim': 2, 'mesh_cente…"
      ]
     },
     "metadata": {},
     "output_type": "display_data"
    },
    {
     "data": {
      "text/plain": [
       "BaseWebGuiScene"
      ]
     },
     "execution_count": 2,
     "metadata": {},
     "output_type": "execute_result"
    }
   ],
   "source": [
    "geo = CSG2d()\n",
    "circle1 = Circle( center=(4 + 4 * np.sqrt(2),2), radius=6, mat=\"mat1\", bc=\"bc_circle1\" )\n",
    "circle2 = Circle( center=(4 + 4 * np.sqrt(2),2), radius=5, mat=\"mat2\", bc=\"bc_circle2\" )\n",
    "rect1 = Rectangle( pmin=(0,0), pmax=(4,4), mat=\"mat1\", bc=\"bc_rect1\" )\n",
    "rect2 = Rectangle ( pmin=(-0.5,1), pmax=(5.5,3), mat=\"mat2\", bc=\"bc_rect2\" )\n",
    "#domain1 = circle1 + rect1\n",
    "#domain2 = circle2 + rect2\n",
    "domain3 = (circle1 + rect1)-(circle2 + rect2) \n",
    "#domain2.Mat(\"mat3\").Maxh(0.1) # change domain name and maxh\n",
    "# add top level objects to geometry\n",
    "#geo.Add(domain1)\n",
    "#geo.Add(domain2)\n",
    "geo.Add(domain3)\n",
    "# generate mesh\n",
    "mesh = geo.GenerateMesh(maxh=0.3)\n",
    "Draw(mesh)"
   ]
  },
  {
   "cell_type": "markdown",
   "id": "f7dc4504-6aed-45c6-b7ed-8055a0b7810a",
   "metadata": {},
   "source": [
    "- Importar la función `Draw` del módulo `ngsolve.webgui`\r\n",
    "- Importar la clase `Mesh` y la constante `VOL` del módulo `ngsolve`\r\n",
    "- Crear una malla utilizando la clase `Mesh` y la malla proporcionada\r\n",
    "- Aplicar la curvatura a la malla con un grado de 3\r\n",
    "- Definir una función característica regional (`RegionCF`) para la malla en la región de volumen (`VOL`), asignando un valor de 1 al material \"mat1\"\r\n",
    "- Imprimir la función característica definida\r\n"
   ]
  },
  {
   "cell_type": "code",
   "execution_count": 3,
   "id": "a5192c4a-5bd3-42e1-93aa-09ff97acdde5",
   "metadata": {},
   "outputs": [
    {
     "name": "stdout",
     "output_type": "stream",
     "text": [
      "coef class ngfem::DomainWiseCoefficientFunction, real\n",
      "  coef 1, real\n",
      "\n"
     ]
    }
   ],
   "source": [
    "from ngsolve.webgui import Draw\n",
    "from ngsolve import Mesh, VOL\n",
    "mesh = Mesh(mesh)\n",
    "mesh.Curve(3)\n",
    "cf = mesh.RegionCF(VOL, dict(mat1=1)) \n",
    "print(cf)"
   ]
  },
  {
   "cell_type": "markdown",
   "id": "ce5dc81d-9c96-4968-affc-f8cce3fe55a2",
   "metadata": {},
   "source": [
    "- Importar la función `Integrate`, la clase `Mesh` y la constante `VOL` del módulo `ngsolve`\r\n",
    "- Definir una nueva función característica regional (`RegionCF`) para la malla en la región de volumen (`VOL`) y asignar un valor de 1 al material \"mat1\"\r\n",
    "- Calcular el área de la geometría utilizando la función `Integrate`, la función característica definida, la malla y la región de volumen, calculando regiones por separado\r\n",
    "- Imprimir el área calculada de la geometía\r\n"
   ]
  },
  {
   "cell_type": "code",
   "execution_count": 8,
   "id": "17244135-c803-45af-b767-aea239352f28",
   "metadata": {},
   "outputs": [
    {
     "name": "stdout",
     "output_type": "stream",
     "text": [
      "Área de la geometría:  40.2563\n",
      "\n"
     ]
    }
   ],
   "source": [
    "from ngsolve import Integrate, Mesh, VOL\n",
    "\n",
    "cf = mesh.RegionCF(VOL, dict(mat1=1))\n",
    "area = Integrate(cf, mesh, VOL, region_wise=True)\n",
    "print(\"Área de la geometría:\", area)"
   ]
  },
  {
   "cell_type": "code",
   "execution_count": 9,
   "id": "9218a778-ed3c-4c04-a473-8a13aaf5bb63",
   "metadata": {},
   "outputs": [
    {
     "data": {
      "text/plain": [
       "('bc_rect1',\n",
       " 'bc_rect1',\n",
       " 'bc_circle1',\n",
       " 'bc_circle1',\n",
       " 'bc_circle1',\n",
       " 'bc_circle1',\n",
       " 'bc_rect1',\n",
       " 'bc_rect1',\n",
       " 'bc_rect2',\n",
       " 'bc_circle2',\n",
       " 'bc_circle2',\n",
       " 'bc_circle2',\n",
       " 'bc_circle2',\n",
       " 'bc_rect2')"
      ]
     },
     "execution_count": 9,
     "metadata": {},
     "output_type": "execute_result"
    }
   ],
   "source": [
    "mesh.GetBoundaries()"
   ]
  },
  {
   "cell_type": "markdown",
   "id": "0acd1ea0-1f42-411b-9074-5668bccf3f15",
   "metadata": {},
   "source": [
    "- Definir un espacio de funciones finitas de tipo H1 en la malla, con un orden de 3 para los elementos finitos.\r\n",
    "- Calcular y mostrar el número de grados de libertad (número de incógnitas) en este espacio de funciones finitas\r\n"
   ]
  },
  {
   "cell_type": "code",
   "execution_count": 10,
   "id": "a185c420-1fc1-418e-bc0c-6eabf3d44e39",
   "metadata": {},
   "outputs": [
    {
     "data": {
      "text/plain": [
       "4282"
      ]
     },
     "execution_count": 10,
     "metadata": {},
     "output_type": "execute_result"
    }
   ],
   "source": [
    "fes = H1(mesh, order=3)\n",
    "fes.ndof"
   ]
  },
  {
   "cell_type": "markdown",
   "id": "630ba854-50b3-41fa-8d59-eb2be6c6c79f",
   "metadata": {},
   "source": [
    "- Definir `u` como un objeto simbólico de función de prueba (`TrialFunction`) en el espacio de funciones finitas (`fes`).\r\n",
    "- Definir `v` como un objeto simbólico de función de test (`TestFunction`) en el espacio de funciones finitas (`fes`).\r\n",
    "- Crear un objeto `gfu` de tipo `GridFunction` asociado al espacio de funciones finitas (`fes`) para almacenar la solución.\r\n",
    "- Imponer una condición de tipo Dirichlet en el valor `g` en el borde (`BND`) de la geometría.\r\n",
    "- Dibujar la solución almacenada en `gu`.\r\n"
   ]
  },
  {
   "cell_type": "code",
   "execution_count": 13,
   "id": "16ce51ff-dc67-4766-a1ee-6ba372ee136b",
   "metadata": {},
   "outputs": [],
   "source": [
    "u = fes.TrialFunction() \n",
    "v = fes.TestFunction()  \n",
    "gfu = GridFunction(fes)  \n",
    "g = 283.15 \n",
    "gfu.Set(g, BND)"
   ]
  },
  {
   "cell_type": "markdown",
   "id": "613ab510-052f-4078-bfd6-783b36cee416",
   "metadata": {},
   "source": [
    "- Definir `u` como un objeto simbólico de función de prueba (`TrialFunction`) en el espacio de funciones finitas (`fes`).\r\n",
    "- Definir `v` como un objeto simbólico de función de test (`TestFunction`) en el espacio de funciones finitas (`fes`).\r\n",
    "- Crear un objeto `gfu` de tipo `GridFunction` asociado al espacio de funciones finitas (`fes`) para almacenar la solución.\r\n",
    "\r\n",
    "- Obtener el tipo de la variable `area` y mostrarlo por pantalla.\r\n",
    "- Definir la conductividad térmica `cond`.\r\n",
    "- Calcular `alpha` y `beta` para la condición de Robin, donde `alpha = H` y `beta = -H*T_amb`.\r\n",
    "\r\n",
    "- Definir la frontera `robin_boundary` donde se aplica la condición de Robin.\r\n",
    "\r\n",
    "- Definir la forma bilineal `a` y agregar la contribución de la conductividad térmica.\r\n",
    "- Agregar la contribución de la condición de Robin a la forma bilineal `a`.\r\n",
    "\r\n",
    "- Ensamblar la forma bilineal `a`.\r\n",
    "\r\n",
    "- Calcular `Q` como la potencia total dividida por el área total.\r\n",
    "\r\n",
    "- Definir la forma lineal `f` y agregar la contribución de la fuente de calor `Q`.\r\n",
    "- Agregar la contribución de la condición de Robin a la forma lineal `f`.\r\n",
    "\r\n",
    "- Ensamblar a forma lineal `f`.\r\n"
   ]
  },
  {
   "cell_type": "code",
   "execution_count": 14,
   "id": "794698d3-edf1-4638-b872-7de9f2e59ccb",
   "metadata": {},
   "outputs": [
    {
     "name": "stdout",
     "output_type": "stream",
     "text": [
      "<class 'ngsolve.bla.VectorD'>\n",
      "248408.2138595785\n"
     ]
    }
   ],
   "source": [
    "u = fes.TrialFunction()\n",
    "v = fes.TestFunction()   \n",
    "gfu = GridFunction(fes)   \n",
    "\n",
    "type(area)\n",
    "print(type(area))\n",
    "cond = 320*100 #conductividad térmica 100*kg*cm/(K*s^3)\n",
    "\n",
    "H = 250  # coeficiente de convección  H   W/(m^2 * K) =  (kg m^2/s^3) / (m^2 K) = (kg cm^2/s^3) / (cm^2 K)\n",
    "T_amb = 283.15 \n",
    "alpha = H\n",
    "beta = -H*T_amb\n",
    "robin_boundary = 'bc_rect1|bc_circle1|bc_circle2'\n",
    "\n",
    "a = BilinearForm(fes)\n",
    "a += grad(u)*grad(v)*cond*dx\n",
    "\n",
    "a += alpha*u*v*ds(robin_boundary)\n",
    "\n",
    "a.Assemble()\n",
    "P=1.0E7\n",
    "Q=P/area[0] \n",
    "print(Q)\n",
    "f = LinearForm(fes)\n",
    "f += Q*v*dx\n",
    "\n",
    "f += -beta*v*ds(robin_boundary)\n",
    "\n",
    "f.Assemble();"
   ]
  },
  {
   "cell_type": "markdown",
   "id": "3530fe5e-27dc-4ddf-bdaa-a9403e1e5ad5",
   "metadata": {},
   "source": [
    "- Crear un precondicionador `c` para la forma bilineal `a` usando el método de Jacobi.\r\n",
    "- Se ha comentado esta línea ya que no se utiliza en el código actual.\r\n",
    "\r\n",
    "- Crear un precondicionador `c` para la forma bilineal `a` usando un solucionador directo disperso.\r\n",
    "- Actualizar el precondicionador `c`.\r\n",
    "\r\n",
    "- Resolver el problema de valor límite (BVP) utilizando el sistema lineal definido por la forma bilineal `a` y la forma lineal `f`, y almacenar la solución en `gfu`.\r\n",
    "- Dibujar la solución almacenada en`gfu`.\r\n"
   ]
  },
  {
   "cell_type": "code",
   "execution_count": 15,
   "id": "29c69326-6351-457f-83ac-c5e07c70e219",
   "metadata": {},
   "outputs": [
    {
     "name": "stdout",
     "output_type": "stream",
     "text": [
      "CG iteration 1, residual = 112491.86012257091     \n",
      "CG iteration 2, residual = 4.84637183305767e-09     \n"
     ]
    },
    {
     "data": {
      "application/vnd.jupyter.widget-view+json": {
       "model_id": "15080cc7051649c2b0972f18aefe0ca0",
       "version_major": 2,
       "version_minor": 0
      },
      "text/plain": [
       "WebGuiWidget(layout=Layout(height='50vh', width='100%'), value={'gui_settings': {}, 'ngsolve_version': '6.2.23…"
      ]
     },
     "metadata": {},
     "output_type": "display_data"
    },
    {
     "data": {
      "text/plain": [
       "BaseWebGuiScene"
      ]
     },
     "execution_count": 15,
     "metadata": {},
     "output_type": "execute_result"
    }
   ],
   "source": [
    "c = Preconditioner(a,\"direct\")\n",
    "c.Update()\n",
    "solvers.BVP(bf=a, lf=f, gf=gfu, pre=c)\n",
    "Draw(gfu)"
   ]
  },
  {
   "cell_type": "markdown",
   "id": "4aa30c47-757a-4238-a742-f74c5cdb107e",
   "metadata": {},
   "source": [
    "- Calcular el gradiente `grad_u` de la función de prueba `u`.\r\n",
    "- Calcular el gradiente `grad_gfu` de la solución `gfu`.\r\n",
    "- Dibujar el gradiente `grad_gfu` sobre la malla `mesh` con el nombre \"grad_gfu.\r\n"
   ]
  },
  {
   "cell_type": "code",
   "execution_count": 16,
   "id": "12da9cbf-f715-4b27-8b60-106b3f1d33be",
   "metadata": {},
   "outputs": [
    {
     "data": {
      "application/vnd.jupyter.widget-view+json": {
       "model_id": "a130cd94e1b74e2a921292a1c5bb4647",
       "version_major": 2,
       "version_minor": 0
      },
      "text/plain": [
       "WebGuiWidget(layout=Layout(height='50vh', width='100%'), value={'gui_settings': {}, 'ngsolve_version': '6.2.23…"
      ]
     },
     "metadata": {},
     "output_type": "display_data"
    },
    {
     "data": {
      "text/plain": [
       "BaseWebGuiScene"
      ]
     },
     "execution_count": 16,
     "metadata": {},
     "output_type": "execute_result"
    }
   ],
   "source": [
    "grad_u = grad(u)  \n",
    "grad_gfu = grad(gfu)  \n",
    "Draw(grad_gfu, mesh, \"grad_gfu\")"
   ]
  },
  {
   "cell_type": "code",
   "execution_count": null,
   "id": "c90fe42b-f076-4d51-9f16-b12b834fed78",
   "metadata": {},
   "outputs": [],
   "source": []
  }
 ],
 "metadata": {
  "kernelspec": {
   "display_name": "Python 3 (ipykernel)",
   "language": "python",
   "name": "python3"
  },
  "language_info": {
   "codemirror_mode": {
    "name": "ipython",
    "version": 3
   },
   "file_extension": ".py",
   "mimetype": "text/x-python",
   "name": "python",
   "nbconvert_exporter": "python",
   "pygments_lexer": "ipython3",
   "version": "3.12.0"
  }
 },
 "nbformat": 4,
 "nbformat_minor": 5
}
