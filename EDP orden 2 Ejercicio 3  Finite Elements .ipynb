{
 "cells": [
  {
   "cell_type": "markdown",
   "metadata": {},
   "source": [
    "# 1.1 First NGSolve example\n",
    "\n",
    "Let us solve the Poisson problem of finding $u$ satisfying \n",
    "\n",
    "$$\n",
    "\\begin{aligned}\n",
    "-\\Delta u & = f && \\text { in  the unit square},\n",
    "\\\\\n",
    "u & = 0 && \\text{ on the boundary}\n",
    "\\end{aligned}\n",
    "$$\n",
    "$$f(x,y)=sin(\\pi x) sin(\\pi y)$$\n",
    "$$u_{exact}=\\frac{1}{2\\pi^2}\\cdot sin(\\pi x) sin(\\pi y) $$"
   ]
  },
  {
   "cell_type": "markdown",
   "metadata": {},
   "source": [
    "## Quick steps to solution:"
   ]
  },
  {
   "cell_type": "markdown",
   "metadata": {},
   "source": [
    "#### 1. Import NGSolve and Netgen Python modules:"
   ]
  },
  {
   "cell_type": "code",
   "execution_count": 1,
   "metadata": {},
   "outputs": [],
   "source": [
    "from ngsolve import *\n",
    "from ngsolve.webgui import Draw"
   ]
  },
  {
   "cell_type": "markdown",
   "metadata": {},
   "source": [
    "#### 2. Generate an unstructured mesh"
   ]
  },
  {
   "cell_type": "markdown",
   "metadata": {},
   "source": [
    "#### Utiliza la funcionalidad de NGSolve para generar una malla para el dominio del cuadrado unitario"
   ]
  },
  {
   "cell_type": "code",
   "execution_count": 2,
   "metadata": {},
   "outputs": [
    {
     "data": {
      "text/plain": [
       "(512, 942)"
      ]
     },
     "execution_count": 2,
     "metadata": {},
     "output_type": "execute_result"
    }
   ],
   "source": [
    "mesh = Mesh(unit_square.GenerateMesh(maxh=0.05))\n",
    "mesh.nv, mesh.ne   # number of vertices & elements "
   ]
  },
  {
   "cell_type": "markdown",
   "metadata": {},
   "source": [
    "# 137: Representa el número de vértices en la malla generada para el cuadrado unitario.\n",
    "\r",
    "# \n",
    "232: Es el número de elementos en la malla, es decir, la cantidad de subdivisiones o subregiones en las que se divide el cuadrado unitario para formar la malla."
   ]
  },
  {
   "cell_type": "markdown",
   "metadata": {},
   "source": [
    "Here we prescribed a maximal mesh-size of 0.2 using the `maxh` flag. "
   ]
  },
  {
   "cell_type": "code",
   "execution_count": 3,
   "metadata": {},
   "outputs": [
    {
     "data": {
      "application/vnd.jupyter.widget-view+json": {
       "model_id": "e779670f80d248df97f370aee5e08e68",
       "version_major": 2,
       "version_minor": 0
      },
      "text/plain": [
       "WebGuiWidget(layout=Layout(height='50vh', width='100%'), value={'gui_settings': {}, 'ngsolve_version': '6.2.23…"
      ]
     },
     "metadata": {},
     "output_type": "display_data"
    }
   ],
   "source": [
    "Draw(mesh);"
   ]
  },
  {
   "cell_type": "markdown",
   "metadata": {},
   "source": [
    "#### 3. Declare a finite element space:"
   ]
  },
  {
   "cell_type": "markdown",
   "metadata": {},
   "source": [
    "# H1(mesh, order=1, dirichlet=\"bottom|right\"): Aquí se crea un espacio de funciones finitas sobre la malla mesh. El espacio de funciones finitas H1 representa funciones que son continuas y tienen derivadas en $L^2$ 2\r\n",
    "  (es decir, sus gradientes están en el espacio de funciones cuadrado-integrables). Este espacio se define sobre la malla mesh. El parámetro order=1 especifica el grado de las funciones (en este caso, funciones lineales), y dirichlet=\"bottom|right\" parece estar indicando que las condiciones de Dirichlet se aplican en los bordes inferiores y derechos de la mal# la.\r\n",
    "\r\n",
    "fes.ndof: Esto devuelve el número de grados de libertad (dof, por sus siglas en inglés \"degrees of freedom\") en este espacio de funciones finitas. Los grados de libertad son esencialmente el número de incógnitas (número de funciones lineales independientes) en el espacio de funciones finitas. Esto incluiría el número de puntos de interpolación en los elementos de la malla y los grados de libertad restringidos por las condiciones de contorno."
   ]
  },
  {
   "cell_type": "code",
   "execution_count": 4,
   "metadata": {},
   "outputs": [
    {
     "data": {
      "text/plain": [
       "1965"
      ]
     },
     "execution_count": 4,
     "metadata": {},
     "output_type": "execute_result"
    }
   ],
   "source": [
    "fes = H1(mesh, order=2, dirichlet=\"bottom|right|top|left\")\n",
    "fes.ndof  # number of unknowns in this space"
   ]
  },
  {
   "cell_type": "markdown",
   "metadata": {},
   "source": [
    "# indica que hay 1965 grados de libertad en el espacio de funciones finitas que se ha definido."
   ]
  },
  {
   "cell_type": "markdown",
   "metadata": {},
   "source": [
    "Python's help system displays further documentation."
   ]
  },
  {
   "cell_type": "code",
   "execution_count": 5,
   "metadata": {},
   "outputs": [
    {
     "name": "stdout",
     "output_type": "stream",
     "text": [
      "Help on H1 in module ngsolve.comp object:\n",
      "\n",
      "class H1(FESpace)\n",
      " |  An H1-conforming finite element space.\n",
      " |\n",
      " |  The H1 finite element space consists of continuous and\n",
      " |  element-wise polynomial functions. It uses a hierarchical (=modal)\n",
      " |  basis built from integrated Legendre polynomials on tensor-product elements,\n",
      " |  and Jaboci polynomials on simplicial elements.\n",
      " |\n",
      " |  Boundary values are well defined. The function can be used directly on the\n",
      " |  boundary, using the trace operator is optional.\n",
      " |\n",
      " |  The H1 space supports variable order, which can be set individually for edges,\n",
      " |  faces and cells.\n",
      " |\n",
      " |  Internal degrees of freedom are declared as local dofs and are eliminated\n",
      " |  if static condensation is on.\n",
      " |\n",
      " |  The wirebasket consists of all vertex dofs. Optionally, one can include the\n",
      " |  first (the quadratic bubble) edge basis function, or all edge basis functions\n",
      " |  into the wirebasket.\n",
      " |\n",
      " |  Keyword arguments can be:\n",
      " |\n",
      " |  order: int = 1\n",
      " |    order of finite element space\n",
      " |  complex: bool = False\n",
      " |    Set if FESpace should be complex\n",
      " |  dirichlet: regexpr\n",
      " |    Regular expression string defining the dirichlet boundary.\n",
      " |    More than one boundary can be combined by the | operator,\n",
      " |    i.e.: dirichlet = 'top|right'\n",
      " |  dirichlet_bbnd: regexpr\n",
      " |    Regular expression string defining the dirichlet bboundary,\n",
      " |    i.e. points in 2D and edges in 3D.\n",
      " |    More than one boundary can be combined by the | operator,\n",
      " |    i.e.: dirichlet_bbnd = 'top|right'\n",
      " |  dirichlet_bbbnd: regexpr\n",
      " |    Regular expression string defining the dirichlet bbboundary,\n",
      " |    i.e. points in 3D.\n",
      " |    More than one boundary can be combined by the | operator,\n",
      " |    i.e.: dirichlet_bbbnd = 'top|right'\n",
      " |  definedon: Region or regexpr\n",
      " |    FESpace is only defined on specific Region, created with mesh.Materials('regexpr')\n",
      " |    or mesh.Boundaries('regexpr'). If given a regexpr, the region is assumed to be\n",
      " |    mesh.Materials('regexpr').\n",
      " |  dim: int = 1\n",
      " |    Create multi dimensional FESpace (i.e. [H1]^3)\n",
      " |  dgjumps: bool = False\n",
      " |    Enable discontinuous space for DG methods, this flag is needed for DG methods,\n",
      " |    since the dofs have a different coupling then and this changes the sparsity\n",
      " |    pattern of matrices.\n",
      " |  autoupdate: bool = False\n",
      " |    Automatically update on a change to the mesh.\n",
      " |  low_order_space: bool = True\n",
      " |    Generate a lowest order space together with the high-order space,\n",
      " |    needed for some preconditioners.\n",
      " |  order_policy: ORDER_POLICY = ORDER_POLICY.OLDSTYLE\n",
      " |    CONSTANT .. use the same fixed order for all elements,\n",
      " |    NODAL ..... use the same order for nodes of same shape,\n",
      " |    VARIABLE ... use an individual order for each edge, face and cell,\n",
      " |    OLDSTYLE .. as it used to be for the last decade\n",
      " |  wb_withedges: bool = true(3D) / false(2D)\n",
      " |    use lowest-order edge dofs for BDDC wirebasket\n",
      " |  wb_fulledges: bool = false\n",
      " |    use all edge dofs for BDDC wirebasket\n",
      " |\n",
      " |  Method resolution order:\n",
      " |      H1\n",
      " |      FESpace\n",
      " |      NGS_Object\n",
      " |      pybind11_builtins.pybind11_object\n",
      " |      builtins.object\n",
      " |\n",
      " |  Methods defined here:\n",
      " |\n",
      " |  __getstate__(...)\n",
      " |      __getstate__(self: ngsolve.comp.FESpace) -> tuple\n",
      " |\n",
      " |  __init__(...)\n",
      " |      __init__(self: ngsolve.comp.H1, mesh: ngsolve.comp.Mesh, **kwargs) -> None\n",
      " |\n",
      " |  __setstate__(...)\n",
      " |      __setstate__(self: ngsolve.comp.H1, arg0: tuple) -> None\n",
      " |\n",
      " |  ----------------------------------------------------------------------\n",
      " |  Static methods defined here:\n",
      " |\n",
      " |  __flags_doc__(...) from builtins.PyCapsule\n",
      " |      __flags_doc__() -> dict\n",
      " |\n",
      " |  ----------------------------------------------------------------------\n",
      " |  Data descriptors defined here:\n",
      " |\n",
      " |  __dict__\n",
      " |\n",
      " |  ----------------------------------------------------------------------\n",
      " |  Methods inherited from FESpace:\n",
      " |\n",
      " |  ApplyM(...)\n",
      " |      ApplyM(self: ngsolve.comp.FESpace, vec: ngsolve.la.BaseVector, rho: ngsolve.fem.CoefficientFunction = None, definedon: ngsolve.comp.Region = None) -> None\n",
      " |\n",
      " |      Apply mass-matrix. Available only for L2-like spaces\n",
      " |\n",
      " |  ConvertL2Operator(...)\n",
      " |      ConvertL2Operator(self: ngsolve.comp.FESpace, l2space: ngsolve.comp.FESpace) -> BaseMatrix\n",
      " |\n",
      " |  CouplingType(...)\n",
      " |      CouplingType(self: ngsolve.comp.FESpace, dofnr: int) -> ngsolve.comp.COUPLING_TYPE\n",
      " |\n",
      " |\n",
      " |               Get coupling type of a degree of freedom.\n",
      " |\n",
      " |      Parameters:\n",
      " |\n",
      " |      dofnr : int\n",
      " |        input dof number\n",
      " |\n",
      " |  CreateDirectSolverCluster(...)\n",
      " |      CreateDirectSolverCluster(self: ngsolve.comp.FESpace, **kwargs) -> list\n",
      " |\n",
      " |  CreateSmoothingBlocks(...)\n",
      " |      CreateSmoothingBlocks(self: ngsolve.comp.FESpace, **kwargs) -> pyngcore.pyngcore.Table_I\n",
      " |\n",
      " |  Elements(...)\n",
      " |      Elements(*args, **kwargs)\n",
      " |      Overloaded function.\n",
      " |\n",
      " |      1. Elements(self: ngsolve.comp.FESpace, VOL_or_BND: ngsolve.comp.VorB = <VorB.VOL: 0>) -> ngsolve.comp.FESpaceElementRange\n",
      " |\n",
      " |\n",
      " |      Returns an iterable range of elements.\n",
      " |\n",
      " |      Parameters:\n",
      " |\n",
      " |      VOL_or_BND : ngsolve.comp.VorB\n",
      " |        input VOL, BND, BBND,...\n",
      " |\n",
      " |\n",
      " |\n",
      " |      2. Elements(self: ngsolve.comp.FESpace, arg0: ngsolve.comp.Region) -> Iterator\n",
      " |\n",
      " |  FinalizeUpdate(...)\n",
      " |      FinalizeUpdate(self: ngsolve.comp.FESpace) -> None\n",
      " |\n",
      " |      finalize update\n",
      " |\n",
      " |  FreeDofs(...)\n",
      " |      FreeDofs(self: ngsolve.comp.FESpace, coupling: bool = False) -> pyngcore.pyngcore.BitArray\n",
      " |\n",
      " |\n",
      " |\n",
      " |      Return BitArray of free (non-Dirichlet) dofs\\n\n",
      " |      coupling=False ... all free dofs including local dofs\\n\n",
      " |      coupling=True .... only element-boundary free dofs\n",
      " |\n",
      " |      Parameters:\n",
      " |\n",
      " |      coupling : bool\n",
      " |        input coupling\n",
      " |\n",
      " |  GetDofNrs(...)\n",
      " |      GetDofNrs(*args, **kwargs)\n",
      " |      Overloaded function.\n",
      " |\n",
      " |      1. GetDofNrs(self: ngsolve.comp.FESpace, ei: ngsolve.comp.ElementId) -> tuple\n",
      " |\n",
      " |\n",
      " |\n",
      " |      Parameters:\n",
      " |\n",
      " |      ei : ngsolve.comp.ElementId\n",
      " |        input element id\n",
      " |\n",
      " |\n",
      " |\n",
      " |      2. GetDofNrs(self: ngsolve.comp.FESpace, ni: ngsolve.comp.NodeId) -> tuple\n",
      " |\n",
      " |\n",
      " |\n",
      " |      Parameters:\n",
      " |\n",
      " |      ni : ngsolve.comp.NodeId\n",
      " |        input node id\n",
      " |\n",
      " |  GetDofs(...)\n",
      " |      GetDofs(self: ngsolve.comp.FESpace, region: ngsolve.comp.Region) -> pyngcore.pyngcore.BitArray\n",
      " |\n",
      " |\n",
      " |      Returns all degrees of freedom in given region.\n",
      " |\n",
      " |      Parameters:\n",
      " |\n",
      " |      region : ngsolve.comp.Region\n",
      " |        input region\n",
      " |\n",
      " |  GetFE(...)\n",
      " |      GetFE(self: ngsolve.comp.FESpace, ei: ngsolve.comp.ElementId) -> object\n",
      " |\n",
      " |\n",
      " |      Get the finite element to corresponding element id.\n",
      " |\n",
      " |      Parameters:\n",
      " |\n",
      " |      ei : ngsolve.comp.ElementId\n",
      " |         input element id\n",
      " |\n",
      " |  GetOrder(...)\n",
      " |      GetOrder(self: ngsolve.comp.FESpace, nodeid: ngsolve.comp.NodeId) -> int\n",
      " |\n",
      " |      return order of node.\n",
      " |      by now, only isotropic order is supported here\n",
      " |\n",
      " |  GetTrace(...)\n",
      " |      GetTrace(self: ngsolve.comp.FESpace, arg0: ngsolve.comp.FESpace, arg1: ngsolve.la.BaseVector, arg2: ngsolve.la.BaseVector, arg3: bool) -> None\n",
      " |\n",
      " |  GetTraceTrans(...)\n",
      " |      GetTraceTrans(self: ngsolve.comp.FESpace, arg0: ngsolve.comp.FESpace, arg1: ngsolve.la.BaseVector, arg2: ngsolve.la.BaseVector, arg3: bool) -> None\n",
      " |\n",
      " |  HideAllDofs(...)\n",
      " |      HideAllDofs(self: ngsolve.comp.FESpace, component: object = <ngsolve.ngstd.DummyArgument>) -> None\n",
      " |\n",
      " |      set all visible coupling types to HIDDEN_DOFs (will be overwritten by any Update())\n",
      " |\n",
      " |  InvM(...)\n",
      " |      InvM(self: ngsolve.comp.FESpace, rho: ngsolve.fem.CoefficientFunction = None) -> BaseMatrix\n",
      " |\n",
      " |  Mass(...)\n",
      " |      Mass(self: ngsolve.comp.FESpace, rho: ngsolve.fem.CoefficientFunction = None, definedon: Optional[ngsolve.comp.Region] = None) -> BaseMatrix\n",
      " |\n",
      " |  ParallelDofs(...)\n",
      " |      ParallelDofs(self: ngsolve.comp.FESpace) -> ngsolve.la.ParallelDofs\n",
      " |\n",
      " |      Return dof-identification for MPI-distributed meshes\n",
      " |\n",
      " |  Prolongation(...)\n",
      " |      Prolongation(self: ngsolve.comp.FESpace) -> ngmg::Prolongation\n",
      " |\n",
      " |      Return prolongation operator for use in multi-grid\n",
      " |\n",
      " |  Range(...)\n",
      " |      Range(self: ngsolve.comp.FESpace, arg0: int) -> ngsolve.la.DofRange\n",
      " |\n",
      " |      deprecated, will be only available for ProductSpace\n",
      " |\n",
      " |  SetCouplingType(...)\n",
      " |      SetCouplingType(*args, **kwargs)\n",
      " |      Overloaded function.\n",
      " |\n",
      " |      1. SetCouplingType(self: ngsolve.comp.FESpace, dofnr: int, coupling_type: ngsolve.comp.COUPLING_TYPE) -> None\n",
      " |\n",
      " |\n",
      " |               Set coupling type of a degree of freedom.\n",
      " |\n",
      " |      Parameters:\n",
      " |\n",
      " |      dofnr : int\n",
      " |        input dof number\n",
      " |\n",
      " |      coupling_type : ngsolve.comp.COUPLING_TYPE\n",
      " |        input coupling type\n",
      " |\n",
      " |\n",
      " |\n",
      " |      2. SetCouplingType(self: ngsolve.comp.FESpace, dofnrs: ngsolve.ngstd.IntRange, coupling_type: ngsolve.comp.COUPLING_TYPE) -> None\n",
      " |\n",
      " |\n",
      " |               Set coupling type for interval of dofs.\n",
      " |\n",
      " |      Parameters:\n",
      " |\n",
      " |      dofnrs : Range\n",
      " |        range of dofs\n",
      " |\n",
      " |      coupling_type : ngsolve.comp.COUPLING_TYPE\n",
      " |        input coupling type\n",
      " |\n",
      " |  SetDefinedOn(...)\n",
      " |      SetDefinedOn(self: ngsolve.comp.FESpace, region: ngsolve.comp.Region) -> None\n",
      " |\n",
      " |\n",
      " |      Set the regions on which the FESpace is defined.\n",
      " |\n",
      " |      Parameters:\n",
      " |\n",
      " |      region : ngsolve.comp.Region\n",
      " |        input region\n",
      " |\n",
      " |  SetOrder(...)\n",
      " |      SetOrder(*args, **kwargs)\n",
      " |      Overloaded function.\n",
      " |\n",
      " |      1. SetOrder(self: ngsolve.comp.FESpace, element_type: ngsolve.fem.ET, order: int) -> None\n",
      " |\n",
      " |\n",
      " |\n",
      " |      Parameters:\n",
      " |\n",
      " |      element_type : ngsolve.fem.ET\n",
      " |        input element type\n",
      " |\n",
      " |      order : object\n",
      " |        input polynomial order\n",
      " |\n",
      " |\n",
      " |      2. SetOrder(self: ngsolve.comp.FESpace, nodeid: ngsolve.comp.NodeId, order: int) -> None\n",
      " |\n",
      " |\n",
      " |\n",
      " |      Parameters:\n",
      " |\n",
      " |      nodeid : ngsolve.comp.NodeId\n",
      " |        input node id\n",
      " |\n",
      " |      order : int\n",
      " |        input polynomial order\n",
      " |\n",
      " |  SolveM(...)\n",
      " |      SolveM(self: ngsolve.comp.FESpace, vec: ngsolve.la.BaseVector, rho: ngsolve.fem.CoefficientFunction = None, definedon: ngsolve.comp.Region = None) -> None\n",
      " |\n",
      " |\n",
      " |               Solve with the mass-matrix. Available only for L2-like spaces.\n",
      " |\n",
      " |      Parameters:\n",
      " |\n",
      " |      vec : ngsolve.la.BaseVector\n",
      " |        input right hand side vector\n",
      " |\n",
      " |      rho : ngsolve.fem.CoefficientFunction\n",
      " |        input CF\n",
      " |\n",
      " |  TestFunction(...)\n",
      " |      TestFunction(self: ngsolve.comp.FESpace) -> object\n",
      " |\n",
      " |      Return a proxy to be used as a testfunction for Symbolic Integrators\n",
      " |\n",
      " |  TnT(...)\n",
      " |      TnT(self: ngsolve.comp.FESpace) -> Tuple[object, object]\n",
      " |\n",
      " |      Return a tuple of trial and testfunction\n",
      " |\n",
      " |  TraceOperator(...)\n",
      " |      TraceOperator(self: ngsolve.comp.FESpace, tracespace: ngsolve.comp.FESpace, average: bool) -> BaseMatrix\n",
      " |\n",
      " |  TrialFunction(...)\n",
      " |      TrialFunction(self: ngsolve.comp.FESpace) -> object\n",
      " |\n",
      " |      Return a proxy to be used as a trialfunction in Symbolic Integrators\n",
      " |\n",
      " |  Update(...)\n",
      " |      Update(self: ngsolve.comp.FESpace) -> None\n",
      " |\n",
      " |      update space after mesh-refinement\n",
      " |\n",
      " |  UpdateDofTables(...)\n",
      " |      UpdateDofTables(self: ngsolve.comp.FESpace) -> None\n",
      " |\n",
      " |      update dof-tables after changing polynomial order distribution\n",
      " |\n",
      " |  __eq__(...)\n",
      " |      __eq__(self: ngsolve.comp.FESpace, space: ngsolve.comp.FESpace) -> bool\n",
      " |\n",
      " |  __mul__(...)\n",
      " |      __mul__(self: ngsolve.comp.FESpace, arg0: ngsolve.comp.FESpace) -> ngcomp::CompoundFESpace\n",
      " |\n",
      " |  __pow__(...)\n",
      " |      __pow__(self: ngsolve.comp.FESpace, arg0: int) -> ngcomp::CompoundFESpaceAllSame\n",
      " |\n",
      " |  __str__(...)\n",
      " |      __str__(self: ngsolve.comp.FESpace) -> str\n",
      " |\n",
      " |  __timing__(...)\n",
      " |      __timing__(self: ngsolve.comp.FESpace) -> object\n",
      " |\n",
      " |  ----------------------------------------------------------------------\n",
      " |  Static methods inherited from FESpace:\n",
      " |\n",
      " |  __special_treated_flags__(...) from builtins.PyCapsule\n",
      " |      __special_treated_flags__() -> dict\n",
      " |\n",
      " |  ----------------------------------------------------------------------\n",
      " |  Readonly properties inherited from FESpace:\n",
      " |\n",
      " |  autoupdate\n",
      " |\n",
      " |  components\n",
      " |      deprecated, will be only available for ProductSpace\n",
      " |\n",
      " |  couplingtype\n",
      " |\n",
      " |  dim\n",
      " |      multi-dim of FESpace\n",
      " |\n",
      " |  globalorder\n",
      " |      query global order of space\n",
      " |\n",
      " |  is_complex\n",
      " |\n",
      " |  loembedding\n",
      " |\n",
      " |  lospace\n",
      " |\n",
      " |  mesh\n",
      " |      mesh on which the FESpace is created\n",
      " |\n",
      " |  ndof\n",
      " |      number of degrees of freedom\n",
      " |\n",
      " |  ndofglobal\n",
      " |      global number of dofs on MPI-distributed mesh\n",
      " |\n",
      " |  type\n",
      " |      type of finite element space\n",
      " |\n",
      " |  ----------------------------------------------------------------------\n",
      " |  Data and other attributes inherited from FESpace:\n",
      " |\n",
      " |  __hash__ = None\n",
      " |\n",
      " |  ----------------------------------------------------------------------\n",
      " |  Readonly properties inherited from NGS_Object:\n",
      " |\n",
      " |  __memory__\n",
      " |\n",
      " |  flags\n",
      " |\n",
      " |  ----------------------------------------------------------------------\n",
      " |  Data descriptors inherited from NGS_Object:\n",
      " |\n",
      " |  name\n",
      " |\n",
      " |  ----------------------------------------------------------------------\n",
      " |  Static methods inherited from pybind11_builtins.pybind11_object:\n",
      " |\n",
      " |  __new__(*args, **kwargs) from pybind11_builtins.pybind11_type\n",
      " |      Create and return a new object.  See help(type) for accurate signature.\n",
      "\n"
     ]
    }
   ],
   "source": [
    "help(fes)"
   ]
  },
  {
   "cell_type": "markdown",
   "metadata": {},
   "source": [
    "#### 4. Declare test function, trial function, and grid function \n",
    "\n",
    "* Test and trial function are symbolic objects - called `ProxyFunctions` -  that help you construct bilinear forms (and have no space to hold solutions). \n",
    "\n",
    "* `GridFunctions`, on the other hand, represent functions in the finite element space and contains memory to hold coefficient vectors."
   ]
  },
  {
   "cell_type": "markdown",
   "metadata": {},
   "source": [
    "# u = fes.TrialFunction(): Aquí se define un objeto simbólico u que representa la \"función de ensayo\" (trial function) en el espacio de funciones finitas fes. La función de ensayo es una función que se utiliza para buscar la solución de la ecuación diferencial en el método de elementos finitos. En esencia, u será la función desconocida que se intentará encontrar para resolver el problema.\r\n",
    "# \r\n",
    "v = fes.TestFunction(): De manera similar, se define un objeto simbólico v que representa la \"función de test\" (test function) en el espacio de funciones finitas fes. La función de test se utiliza en la formulación variacional de la ecuación diferencial para probar la solución propuesta por la función de ensayo. Esta función de test será utilizada en el proceso de resolver la ecuación diferencial por el método de elementos finitos.# \r\n",
    "\r\n",
    "gfu = GridFunction(fes): Aquí se crea un objeto gfu del tipo GridFunction asociado al espacio de funciones finitas fes. Este objeto gfu será utilizado para almacenar la solución numérica de la ecuación diferencial en la malla. Es decir, contendrá la fu \r\n",
    "�\r\n",
    "u que satisface la ecuación Poisson sobre la malla."
   ]
  },
  {
   "cell_type": "code",
   "execution_count": 6,
   "metadata": {},
   "outputs": [],
   "source": [
    "u = fes.TrialFunction()  # symbolic object\n",
    "v = fes.TestFunction()   # symbolic object\n",
    "gfu = GridFunction(fes)  # solution "
   ]
  },
  {
   "cell_type": "markdown",
   "metadata": {},
   "source": [
    "Alternately, you can get both the trial and test variables at once:"
   ]
  },
  {
   "cell_type": "markdown",
   "metadata": {},
   "source": [
    "# TnT Función de aproximación (trial and test) test: función de ponderación"
   ]
  },
  {
   "cell_type": "code",
   "execution_count": 7,
   "metadata": {},
   "outputs": [],
   "source": [
    "u, v = fes.TnT()"
   ]
  },
  {
   "cell_type": "markdown",
   "metadata": {},
   "source": [
    "#### 5. Define and assemble linear and bilinear forms:"
   ]
  },
  {
   "cell_type": "markdown",
   "metadata": {},
   "source": [
    "# a = BilinearForm(fes): Aquí se crea un objeto a del tipo BilinearForm, asociado al espacio de funciones finitas fes. Un BilinearForm se utiliza para representar la forma bilineal asociada al problema. En el contexto de la ecuación de Poisson, la forma bilineal suele involucrar términos que contienen derivadas de la función de ensayo (u) y la función de test (v).\r\n",
    "# \r\n",
    "a += grad(u)*grad(v)*dx: Se definen los términos de la forma bilineal. grad(u) y grad(v) representan los gradientes de las funciones u y v, respectivamente. En el problema de Poisson, grad(u) y grad(v) se utilizan para representar las derivadas espaciales de las funciones de ensayo y de test. El término dx indica la integración sobre el dominio.# \r\n",
    "\r\n",
    "a.Assemble(): Después de definir los términos de la forma bilineal, se utiliza el método Assemble() para ensamblar la matriz asociada a a. Esto implica la evaluación numérica de la integral sobre la malla para obtener la representación matricial de la forma bilinea# l.\r\n",
    "\r\n",
    "f = LinearForm(fes): Similar a la BilinearForm, se crea un objeto f del tipo LinearForm, asociado al espacio de funciones finitas fes. El LinearForm se utiliza para representar la forma lineal asociada al problema. En el contexto de la ecuación de Poisson, la forma lineal suele contener términos lineales en la función de test (v) y posiblemente en las funciones fuente o términos forzantes del probl# ema.\r\n",
    "\r\n",
    "f += x*v*dx: Se definen los términos de la forma lineal. x podría representar un campo escalar (como la función fuente o un término forzante del problema). v es la función de test. dx indica la integración sobre el do# minio.\r\n",
    "\r\n",
    "f.Assemble(): Al igual que con la forma bilineal, el método Assemble() se utiliza para ensamblar la representación numérica de la forma lineal f"
   ]
  },
  {
   "cell_type": "code",
   "execution_count": 8,
   "metadata": {},
   "outputs": [],
   "source": [
    "a = BilinearForm(fes)\n",
    "a += grad(u)*grad(v)*dx\n",
    "a.Assemble()\n",
    "\n",
    "f = LinearForm(fes)\n",
    "f += sin(pi*x)*sin(pi*y)*v*dx\n",
    "f.Assemble();"
   ]
  },
  {
   "cell_type": "markdown",
   "metadata": {},
   "source": [
    "Alternately, we can do one-liners: "
   ]
  },
  {
   "cell_type": "code",
   "execution_count": 9,
   "metadata": {},
   "outputs": [],
   "source": [
    "a = BilinearForm(grad(u)*grad(v)*dx).Assemble()\n",
    "f = LinearForm(sin(pi*x)*sin(pi*y)*v*dx).Assemble()"
   ]
  },
  {
   "cell_type": "markdown",
   "metadata": {},
   "source": [
    "You can examine the linear system in more detail:"
   ]
  },
  {
   "cell_type": "markdown",
   "metadata": {},
   "source": [
    "#### 6. Solve the system:"
   ]
  },
  {
   "cell_type": "code",
   "execution_count": 10,
   "metadata": {},
   "outputs": [
    {
     "data": {
      "application/vnd.jupyter.widget-view+json": {
       "model_id": "e29d5118b4f1498485189d4a7a19dcb2",
       "version_major": 2,
       "version_minor": 0
      },
      "text/plain": [
       "WebGuiWidget(layout=Layout(height='50vh', width='100%'), value={'gui_settings': {}, 'ngsolve_version': '6.2.23…"
      ]
     },
     "metadata": {},
     "output_type": "display_data"
    }
   ],
   "source": [
    "gfu.vec.data = \\\n",
    "    a.mat.Inverse(freedofs=fes.FreeDofs()) * f.vec\n",
    "Draw(gfu);"
   ]
  },
  {
   "cell_type": "markdown",
   "metadata": {},
   "source": [
    "The Dirichlet boundary condition constrains some degrees of freedom. The argument `fes.FreeDofs()` indicates that only the remaining \"free\" degrees of freedom should participate in the linear solve."
   ]
  },
  {
   "cell_type": "markdown",
   "metadata": {},
   "source": [
    "You can examine the coefficient vector of solution if needed:"
   ]
  },
  {
   "cell_type": "markdown",
   "metadata": {},
   "source": [
    "You can see the zeros coming from the zero boundary conditions."
   ]
  },
  {
   "cell_type": "code",
   "execution_count": 11,
   "metadata": {},
   "outputs": [],
   "source": [
    "error = sqrt(Integrate((gfu - sin(pi*x)*sin(pi*y)/(2*pi**2))**2*dx, mesh))/sqrt(Integrate((sin(pi*x)*sin(pi*y)/(2*pi**2))**2*dx, mesh))"
   ]
  },
  {
   "cell_type": "code",
   "execution_count": 12,
   "metadata": {},
   "outputs": [
    {
     "name": "stdout",
     "output_type": "stream",
     "text": [
      "4.035918853548808e-05\n"
     ]
    }
   ],
   "source": [
    "print(error) #este es el error relativo entre la solución numerica y la solución exacta"
   ]
  },
  {
   "cell_type": "code",
   "execution_count": 13,
   "metadata": {},
   "outputs": [],
   "source": [
    "h=[]; errores=[];\n",
    "h.append(0.4);\n",
    "errores.append(0.015848763228804866) #este es para orden 2\n",
    "h.append(0.2);\n",
    "errores.append(0.0031030864871870404)\n",
    "h.append(0.1);\n",
    "errores.append(0.0003552092026984576)\n",
    "h.append(0.05);\n",
    "errores.append(4.035918853548808e-05)"
   ]
  },
  {
   "cell_type": "code",
   "execution_count": 14,
   "metadata": {},
   "outputs": [
    {
     "data": {
      "text/plain": [
       "(1e-06, 0.1)"
      ]
     },
     "execution_count": 14,
     "metadata": {},
     "output_type": "execute_result"
    },
    {
     "data": {
      "image/png": "[encoded data removed]",
      "text/plain": [
       "<Figure size 640x480 with 1 Axes>"
      ]
     },
     "metadata": {},
     "output_type": "display_data"
    }
   ],
   "source": [
    "from matplotlib import pyplot as plt\n",
    "plt.loglog(h,errores)\n",
    "plt.grid(True)\n",
    "plt.xlim([1e-2,1e0])\n",
    "plt.ylim([1e-6,1e-1])"
   ]
  },
  {
   "cell_type": "code",
   "execution_count": 15,
   "metadata": {},
   "outputs": [
    {
     "name": "stdout",
     "output_type": "stream",
     "text": [
      "3.137699886338597\n"
     ]
    }
   ],
   "source": [
    "import numpy as np\n",
    "convergencia = (np.log (errores[-1])-np.log(errores[-2]))/ (np.log(h[-1]) - np.log(h[-2]))\n",
    "print(convergencia)"
   ]
  },
  {
   "cell_type": "markdown",
   "metadata": {},
   "source": [
    "Repetir este procedimiento cambiando h, orden del espacio de elementos finitos 2 y 3, hasta 0.05"
   ]
  },
  {
   "cell_type": "markdown",
   "metadata": {},
   "source": [
    "## Ways to interact with NGSolve"
   ]
  },
  {
   "cell_type": "markdown",
   "metadata": {},
   "source": [
    "* A jupyter notebook (like this one) gives you one way to interact with NGSolve. When you have a complex sequence of tasks to perform, the notebook may not be adequate.\n",
    "\n",
    "\n",
    "* You can write an entire python module in a text editor and call python on the command line. (A script of the above is provided in `poisson.py`.)\n",
    "    ```\n",
    "    python3 poisson.py\n",
    "    ```\n",
    "  \n",
    "* If you want the Netgen GUI, then use `netgen` on the command line:\n",
    "    ```\n",
    "    netgen poisson.py\n",
    "    ```\n",
    "  You can then ask for a python shell from the GUI's menu options (`Solve -> Python shell`).\n",
    "  "
   ]
  }
 ],
 "metadata": {
  "kernelspec": {
   "display_name": "Python 3 (ipykernel)",
   "language": "python",
   "name": "python3"
  },
  "language_info": {
   "codemirror_mode": {
    "name": "ipython",
    "version": 3
   },
   "file_extension": ".py",
   "mimetype": "text/x-python",
   "name": "python",
   "nbconvert_exporter": "python",
   "pygments_lexer": "ipython3",
   "version": "3.12.0"
  }
 },
 "nbformat": 4,
 "nbformat_minor": 4
}
